{
 "cells": [
  {
   "cell_type": "markdown",
   "id": "de456b2c",
   "metadata": {},
   "source": [
    "# 9 to 5"
   ]
  },
  {
   "cell_type": "markdown",
   "id": "7a346719",
   "metadata": {},
   "source": [
    "## Summary"
   ]
  },
  {
   "cell_type": "markdown",
   "id": "0afec443",
   "metadata": {},
   "source": [
    "This project seeks to use multiple regression analysis to find out whether how hard you work really does translate into how rich you are. The evidence at the global level shows that productivity per worker is inextricably linked to GDP per capita."
   ]
  },
  {
   "cell_type": "markdown",
   "id": "5b6dc3ed",
   "metadata": {},
   "source": [
    "## 1) Clean productivity data"
   ]
  },
  {
   "cell_type": "code",
   "execution_count": 1,
   "id": "0630dd72",
   "metadata": {},
   "outputs": [
    {
     "data": {
      "text/html": [
       "<div>\n",
       "<style scoped>\n",
       "    .dataframe tbody tr th:only-of-type {\n",
       "        vertical-align: middle;\n",
       "    }\n",
       "\n",
       "    .dataframe tbody tr th {\n",
       "        vertical-align: top;\n",
       "    }\n",
       "\n",
       "    .dataframe thead th {\n",
       "        text-align: right;\n",
       "    }\n",
       "</style>\n",
       "<table border=\"1\" class=\"dataframe\">\n",
       "  <thead>\n",
       "    <tr style=\"text-align: right;\">\n",
       "      <th></th>\n",
       "      <th>Output per worker (GDP constant 2017 international $ at PPP) -- ILO modelled estimates, Nov. 2021</th>\n",
       "      <th>Unnamed: 1</th>\n",
       "      <th>Unnamed: 2</th>\n",
       "      <th>Unnamed: 3</th>\n",
       "    </tr>\n",
       "  </thead>\n",
       "  <tbody>\n",
       "    <tr>\n",
       "      <th>0</th>\n",
       "      <td>Imputed observations are not based on national...</td>\n",
       "      <td>NaN</td>\n",
       "      <td>NaN</td>\n",
       "      <td>NaN</td>\n",
       "    </tr>\n",
       "    <tr>\n",
       "      <th>1</th>\n",
       "      <td>Downloaded from ILOSTAT. Last update on 11SEP22.</td>\n",
       "      <td>NaN</td>\n",
       "      <td>NaN</td>\n",
       "      <td>NaN</td>\n",
       "    </tr>\n",
       "    <tr>\n",
       "      <th>2</th>\n",
       "      <td>NaN</td>\n",
       "      <td>NaN</td>\n",
       "      <td>NaN</td>\n",
       "      <td>NaN</td>\n",
       "    </tr>\n",
       "    <tr>\n",
       "      <th>3</th>\n",
       "      <td>NaN</td>\n",
       "      <td>NaN</td>\n",
       "      <td>NaN</td>\n",
       "      <td>Output per worker (GDP constant 2017 internati...</td>\n",
       "    </tr>\n",
       "  </tbody>\n",
       "</table>\n",
       "</div>"
      ],
      "text/plain": [
       "  Output per worker (GDP constant 2017 international $ at PPP) -- ILO modelled estimates, Nov. 2021  \\\n",
       "0  Imputed observations are not based on national...                                                  \n",
       "1   Downloaded from ILOSTAT. Last update on 11SEP22.                                                  \n",
       "2                                                NaN                                                  \n",
       "3                                                NaN                                                  \n",
       "\n",
       "  Unnamed: 1 Unnamed: 2                                         Unnamed: 3  \n",
       "0        NaN        NaN                                                NaN  \n",
       "1        NaN        NaN                                                NaN  \n",
       "2        NaN        NaN                                                NaN  \n",
       "3        NaN        NaN  Output per worker (GDP constant 2017 internati...  "
      ]
     },
     "execution_count": 1,
     "metadata": {},
     "output_type": "execute_result"
    }
   ],
   "source": [
    "# imports the libraries and reads in the data.\n",
    "import pandas as pd\n",
    "import numpy as np\n",
    "import math as m\n",
    "\n",
    "data = pd.read_excel('C:/Users/HUAWEI/Desktop/Projects/9-to-5/Data/labour_productivity.xlsx')\n",
    "data.head(4)"
   ]
  },
  {
   "cell_type": "code",
   "execution_count": 2,
   "id": "160126cc",
   "metadata": {},
   "outputs": [
    {
     "data": {
      "text/html": [
       "<div>\n",
       "<style scoped>\n",
       "    .dataframe tbody tr th:only-of-type {\n",
       "        vertical-align: middle;\n",
       "    }\n",
       "\n",
       "    .dataframe tbody tr th {\n",
       "        vertical-align: top;\n",
       "    }\n",
       "\n",
       "    .dataframe thead th {\n",
       "        text-align: right;\n",
       "    }\n",
       "</style>\n",
       "<table border=\"1\" class=\"dataframe\">\n",
       "  <thead>\n",
       "    <tr style=\"text-align: right;\">\n",
       "      <th></th>\n",
       "      <th>country</th>\n",
       "      <th>year</th>\n",
       "      <th>value</th>\n",
       "    </tr>\n",
       "  </thead>\n",
       "  <tbody>\n",
       "    <tr>\n",
       "      <th>0</th>\n",
       "      <td>World</td>\n",
       "      <td>2010</td>\n",
       "      <td>32509.48</td>\n",
       "    </tr>\n",
       "    <tr>\n",
       "      <th>1</th>\n",
       "      <td>World</td>\n",
       "      <td>2011</td>\n",
       "      <td>33335.76</td>\n",
       "    </tr>\n",
       "    <tr>\n",
       "      <th>2</th>\n",
       "      <td>World</td>\n",
       "      <td>2012</td>\n",
       "      <td>34042.18</td>\n",
       "    </tr>\n",
       "    <tr>\n",
       "      <th>3</th>\n",
       "      <td>World</td>\n",
       "      <td>2013</td>\n",
       "      <td>34805.94</td>\n",
       "    </tr>\n",
       "  </tbody>\n",
       "</table>\n",
       "</div>"
      ],
      "text/plain": [
       "  country  year     value\n",
       "0   World  2010  32509.48\n",
       "1   World  2011  33335.76\n",
       "2   World  2012  34042.18\n",
       "3   World  2013  34805.94"
      ]
     },
     "execution_count": 2,
     "metadata": {},
     "output_type": "execute_result"
    }
   ],
   "source": [
    "# drops unwanted columns. \n",
    "data.drop('Unnamed: 1', axis=1, inplace = True)\n",
    "data.columns = ['country', 'year', 'value']\n",
    "data = data.iloc[5:len(data),:]\n",
    "data.reset_index(drop=True, inplace = True)\n",
    "data.head(4)"
   ]
  },
  {
   "cell_type": "code",
   "execution_count": 3,
   "id": "419faebe",
   "metadata": {},
   "outputs": [
    {
     "data": {
      "text/plain": [
       "array(['World', 'World: Low income', 'World: Lower-middle income',\n",
       "       'World: Upper-middle income', 'World: High income', 'Africa',\n",
       "       'Africa: Low income', 'Africa: Lower-middle income',\n",
       "       'Africa: Upper-middle income', 'Northern Africa',\n",
       "       'Northern Africa: Low income',\n",
       "       'Northern Africa: Lower-middle income',\n",
       "       'Northern Africa: Upper-middle income', 'Sub-Saharan Africa',\n",
       "       'Sub-Saharan Africa: Low income',\n",
       "       'Sub-Saharan Africa: Lower-middle income',\n",
       "       'Sub-Saharan Africa: Upper-middle income', 'Central Africa',\n",
       "       'Eastern Africa', 'Southern Africa', 'Western Africa', 'Americas',\n",
       "       'Americas: Lower-middle income', 'Americas: Upper-middle income',\n",
       "       'Americas: High income', 'Latin America and the Caribbean',\n",
       "       'Latin America and the Caribbean: Lower-middle income',\n",
       "       'Latin America and the Caribbean: Upper-middle income',\n",
       "       'Latin America and the Caribbean: High income', 'Caribbean',\n",
       "       'Central America', 'South America', 'Northern America',\n",
       "       'Northern America: High income', 'Arab States',\n",
       "       'Arab States: Low income', 'Arab States: Lower-middle income',\n",
       "       'Arab States: Upper-middle income', 'Arab States: High income',\n",
       "       'Asia and the Pacific', 'Asia and the Pacific: Low income',\n",
       "       'Asia and the Pacific: Lower-middle income',\n",
       "       'Asia and the Pacific: Upper-middle income',\n",
       "       'Asia and the Pacific: High income', 'Eastern Asia',\n",
       "       'Eastern Asia: Low income', 'Eastern Asia: Lower-middle income',\n",
       "       'Eastern Asia: Upper-middle income', 'Eastern Asia: High income',\n",
       "       'South-Eastern Asia and the Pacific',\n",
       "       'South-Eastern Asia and the Pacific: Lower-middle income',\n",
       "       'South-Eastern Asia and the Pacific: Upper-middle income',\n",
       "       'South-Eastern Asia and the Pacific: High income',\n",
       "       'South-Eastern Asia', 'Pacific Islands', 'Southern Asia',\n",
       "       'Southern Asia: Low income', 'Southern Asia: Lower-middle income',\n",
       "       'Southern Asia: Upper-middle income', 'Europe and Central Asia',\n",
       "       'Europe and Central Asia: Lower-middle income',\n",
       "       'Europe and Central Asia: Upper-middle income',\n",
       "       'Europe and Central Asia: High income',\n",
       "       'Northern, Southern and Western Europe',\n",
       "       'Northern, Southern and Western Europe: Upper-middle income',\n",
       "       'Northern, Southern and Western Europe: High income',\n",
       "       'Northern Europe', 'Southern Europe', 'Western Europe',\n",
       "       'Eastern Europe', 'Eastern Europe: Lower-middle income',\n",
       "       'Eastern Europe: Upper-middle income',\n",
       "       'Eastern Europe: High income', 'Central and Western Asia',\n",
       "       'Central and Western Asia: Lower-middle income',\n",
       "       'Central and Western Asia: Upper-middle income',\n",
       "       'Central and Western Asia: High income', 'Central Asia',\n",
       "       'Western Asia', 'ASEAN', 'BRICS', 'European Union 28',\n",
       "       'European Union 27', 'G20', 'World excluding BRICS', 'G7', 'MENA',\n",
       "       'Arab League', 'CARICOM', 'Afghanistan', 'Albania', 'Algeria',\n",
       "       'Angola', 'Argentina', 'Armenia', 'Australia', 'Austria',\n",
       "       'Azerbaijan', 'Bahamas', 'Bahrain', 'Bangladesh', 'Barbados',\n",
       "       'Belarus', 'Belgium', 'Belize', 'Benin', 'Bhutan', 'Bolivia',\n",
       "       'Bosnia and Herzegovina', 'Botswana', 'Brazil',\n",
       "       'Brunei Darussalam', 'Bulgaria', 'Burkina Faso', 'Burundi',\n",
       "       'Cambodia', 'Cameroon', 'Canada', 'Cape Verde',\n",
       "       'Central African Republic', 'Chad', 'Channel Islands', 'Chile',\n",
       "       'China', 'Colombia', 'Comoros', 'Congo',\n",
       "       'Congo, Democratic Republic of the', 'Costa Rica', 'Croatia',\n",
       "       'Cuba', 'Cyprus', 'Czechia', \"Côte d'Ivoire\", 'Denmark',\n",
       "       'Djibouti', 'Dominican Republic', 'Ecuador', 'Egypt',\n",
       "       'El Salvador', 'Equatorial Guinea', 'Eritrea', 'Estonia',\n",
       "       'Eswatini', 'Ethiopia', 'Fiji', 'Finland', 'France',\n",
       "       'French Polynesia', 'Gabon', 'Gambia', 'Georgia', 'Germany',\n",
       "       'Ghana', 'Greece', 'Guam', 'Guatemala', 'Guinea', 'Guinea-Bissau',\n",
       "       'Guyana', 'Haiti', 'Honduras', 'Hong Kong, China', 'Hungary',\n",
       "       'Iceland', 'India', 'Indonesia', 'Iran, Islamic Republic of',\n",
       "       'Iraq', 'Ireland', 'Israel', 'Italy', 'Jamaica', 'Japan', 'Jordan',\n",
       "       'Kazakhstan', 'Kenya', \"Korea, Democratic People's Republic of\",\n",
       "       'Korea, Republic of', 'Kuwait', 'Kyrgyzstan',\n",
       "       \"Lao People's Democratic Republic\", 'Latvia', 'Lebanon', 'Lesotho',\n",
       "       'Liberia', 'Libya', 'Lithuania', 'Luxembourg', 'Macau, China',\n",
       "       'Madagascar', 'Malawi', 'Malaysia', 'Maldives', 'Mali', 'Malta',\n",
       "       'Mauritania', 'Mauritius', 'Mexico', 'Moldova, Republic of',\n",
       "       'Mongolia', 'Montenegro', 'Morocco', 'Mozambique', 'Myanmar',\n",
       "       'Namibia', 'Nepal', 'Netherlands', 'New Caledonia', 'New Zealand',\n",
       "       'Nicaragua', 'Niger', 'Nigeria', 'North Macedonia', 'Norway',\n",
       "       'Occupied Palestinian Territory', 'Oman', 'Pakistan', 'Panama',\n",
       "       'Papua New Guinea', 'Paraguay', 'Peru', 'Philippines', 'Poland',\n",
       "       'Portugal', 'Puerto Rico', 'Qatar', 'Romania',\n",
       "       'Russian Federation', 'Rwanda', 'Saint Lucia',\n",
       "       'Saint Vincent and the Grenadines', 'Samoa',\n",
       "       'Sao Tome and Principe', 'Saudi Arabia', 'Senegal', 'Serbia',\n",
       "       'Sierra Leone', 'Singapore', 'Slovakia', 'Slovenia',\n",
       "       'Solomon Islands', 'Somalia', 'South Africa', 'South Sudan',\n",
       "       'Spain', 'Sri Lanka', 'Sudan', 'Suriname', 'Sweden', 'Switzerland',\n",
       "       'Syrian Arab Republic', 'Taiwan, China', 'Tajikistan',\n",
       "       'Tanzania, United Republic of', 'Thailand', 'Timor-Leste', 'Togo',\n",
       "       'Tonga', 'Trinidad and Tobago', 'Tunisia', 'Türkiye',\n",
       "       'Turkmenistan', 'Uganda', 'Ukraine', 'United Arab Emirates',\n",
       "       'United Kingdom', 'United States', 'United States Virgin Islands',\n",
       "       'Uruguay', 'Uzbekistan', 'Vanuatu',\n",
       "       'Venezuela, Bolivarian Republic of', 'Viet Nam', 'Western Sahara',\n",
       "       'Yemen', 'Zambia', 'Zimbabwe'], dtype=object)"
      ]
     },
     "execution_count": 3,
     "metadata": {},
     "output_type": "execute_result"
    }
   ],
   "source": [
    "# displays the unique country names so we know which ones to drop. \n",
    "data['country'].unique()"
   ]
  },
  {
   "cell_type": "code",
   "execution_count": 4,
   "id": "29138f87",
   "metadata": {},
   "outputs": [
    {
     "data": {
      "text/html": [
       "<div>\n",
       "<style scoped>\n",
       "    .dataframe tbody tr th:only-of-type {\n",
       "        vertical-align: middle;\n",
       "    }\n",
       "\n",
       "    .dataframe tbody tr th {\n",
       "        vertical-align: top;\n",
       "    }\n",
       "\n",
       "    .dataframe thead th {\n",
       "        text-align: right;\n",
       "    }\n",
       "</style>\n",
       "<table border=\"1\" class=\"dataframe\">\n",
       "  <thead>\n",
       "    <tr style=\"text-align: right;\">\n",
       "      <th></th>\n",
       "      <th>country</th>\n",
       "      <th>year</th>\n",
       "      <th>value</th>\n",
       "    </tr>\n",
       "  </thead>\n",
       "  <tbody>\n",
       "    <tr>\n",
       "      <th>1068</th>\n",
       "      <td>Afghanistan</td>\n",
       "      <td>2010</td>\n",
       "      <td>9118.89</td>\n",
       "    </tr>\n",
       "    <tr>\n",
       "      <th>1069</th>\n",
       "      <td>Afghanistan</td>\n",
       "      <td>2011</td>\n",
       "      <td>8743.67</td>\n",
       "    </tr>\n",
       "    <tr>\n",
       "      <th>1070</th>\n",
       "      <td>Afghanistan</td>\n",
       "      <td>2012</td>\n",
       "      <td>9421.73</td>\n",
       "    </tr>\n",
       "    <tr>\n",
       "      <th>1071</th>\n",
       "      <td>Afghanistan</td>\n",
       "      <td>2013</td>\n",
       "      <td>9451.87</td>\n",
       "    </tr>\n",
       "  </tbody>\n",
       "</table>\n",
       "</div>"
      ],
      "text/plain": [
       "          country  year    value\n",
       "1068  Afghanistan  2010  9118.89\n",
       "1069  Afghanistan  2011  8743.67\n",
       "1070  Afghanistan  2012  9421.73\n",
       "1071  Afghanistan  2013  9451.87"
      ]
     },
     "execution_count": 4,
     "metadata": {},
     "output_type": "execute_result"
    }
   ],
   "source": [
    "# drops unwanted country indicators. \n",
    "index = []\n",
    "for i in range(len(data['country'].unique())):\n",
    "    if data['country'].unique()[i] == 'Afghanistan':\n",
    "        index.append(i)\n",
    "        \n",
    "drop_countries = data['country'].unique()[0:index[0]]\n",
    "\n",
    "data = data.loc[data.country.isin(drop_countries)==False]\n",
    "data.head(4)"
   ]
  },
  {
   "cell_type": "code",
   "execution_count": 5,
   "id": "79df0073",
   "metadata": {},
   "outputs": [
    {
     "data": {
      "text/plain": [
       "0"
      ]
     },
     "execution_count": 5,
     "metadata": {},
     "output_type": "execute_result"
    }
   ],
   "source": [
    "# checks for na values. \n",
    "data.isna().sum().sum()"
   ]
  },
  {
   "cell_type": "code",
   "execution_count": 6,
   "id": "d1fa7338",
   "metadata": {},
   "outputs": [
    {
     "data": {
      "text/html": [
       "<div>\n",
       "<style scoped>\n",
       "    .dataframe tbody tr th:only-of-type {\n",
       "        vertical-align: middle;\n",
       "    }\n",
       "\n",
       "    .dataframe tbody tr th {\n",
       "        vertical-align: top;\n",
       "    }\n",
       "\n",
       "    .dataframe thead th {\n",
       "        text-align: right;\n",
       "    }\n",
       "</style>\n",
       "<table border=\"1\" class=\"dataframe\">\n",
       "  <thead>\n",
       "    <tr style=\"text-align: right;\">\n",
       "      <th></th>\n",
       "      <th>value</th>\n",
       "    </tr>\n",
       "    <tr>\n",
       "      <th>country</th>\n",
       "      <th></th>\n",
       "    </tr>\n",
       "  </thead>\n",
       "  <tbody>\n",
       "    <tr>\n",
       "      <th>Afghanistan</th>\n",
       "      <td>9043.751667</td>\n",
       "    </tr>\n",
       "    <tr>\n",
       "      <th>Albania</th>\n",
       "      <td>30685.229167</td>\n",
       "    </tr>\n",
       "    <tr>\n",
       "      <th>Algeria</th>\n",
       "      <td>43222.630000</td>\n",
       "    </tr>\n",
       "    <tr>\n",
       "      <th>Angola</th>\n",
       "      <td>19511.684167</td>\n",
       "    </tr>\n",
       "  </tbody>\n",
       "</table>\n",
       "</div>"
      ],
      "text/plain": [
       "                    value\n",
       "country                  \n",
       "Afghanistan   9043.751667\n",
       "Albania      30685.229167\n",
       "Algeria      43222.630000\n",
       "Angola       19511.684167"
      ]
     },
     "execution_count": 6,
     "metadata": {},
     "output_type": "execute_result"
    }
   ],
   "source": [
    "# returns country averages. \n",
    "def get_avg(data):\n",
    "    df = data.loc[:,['country', 'value']]\n",
    "    grouped_df = df.groupby('country')\n",
    "    mean = grouped_df.mean()\n",
    "    return mean\n",
    "\n",
    "avg_df = get_avg(data)\n",
    "avg_df.head(4)"
   ]
  },
  {
   "cell_type": "code",
   "execution_count": 7,
   "id": "79460426",
   "metadata": {},
   "outputs": [
    {
     "data": {
      "text/plain": [
       "Text(0.5, 1.0, 'Country productivity')"
      ]
     },
     "execution_count": 7,
     "metadata": {},
     "output_type": "execute_result"
    },
    {
     "data": {
      "image/png": "[encoded data removed]",
      "text/plain": [
       "<Figure size 432x288 with 1 Axes>"
      ]
     },
     "metadata": {
      "needs_background": "light"
     },
     "output_type": "display_data"
    }
   ],
   "source": [
    "# plots productivity data as a histogram. \n",
    "import matplotlib.pyplot as plt\n",
    "import seaborn as sns\n",
    "\n",
    "sns.histplot(avg_df)\n",
    "plt.title('Country productivity')"
   ]
  },
  {
   "cell_type": "code",
   "execution_count": 8,
   "id": "855dacd9",
   "metadata": {},
   "outputs": [],
   "source": [
    "# finds and deals with outliers by capping them at 3 standard deviations. \n",
    "def outliers(data, num):\n",
    "    mean = data.mean()[0]\n",
    "    std = data.std()[0]\n",
    "    \n",
    "    outliers = []\n",
    "    for i in range(len(data)):\n",
    "        if data['value'][i] > mean + (std*num):\n",
    "            data['value'][i] = mean + (std*num)\n",
    "            \n",
    "        if data['value'][i] < mean - (std*num):\n",
    "            data['value'][i] = mean - (std*num)\n",
    "            \n",
    "outliers(avg_df, 3)"
   ]
  },
  {
   "cell_type": "code",
   "execution_count": 9,
   "id": "731f961a",
   "metadata": {},
   "outputs": [],
   "source": [
    "# transfrorms the distribution to make it more normal. \n",
    "transformed_values = avg_df['value']**(1/3.25)"
   ]
  },
  {
   "cell_type": "code",
   "execution_count": 10,
   "id": "96f8ff4d",
   "metadata": {},
   "outputs": [
    {
     "data": {
      "text/plain": [
       "Text(0.5, 1.0, 'Transformed country productivity')"
      ]
     },
     "execution_count": 10,
     "metadata": {},
     "output_type": "execute_result"
    },
    {
     "data": {
      "image/png": "[encoded data removed]",
      "text/plain": [
       "<Figure size 432x288 with 1 Axes>"
      ]
     },
     "metadata": {
      "needs_background": "light"
     },
     "output_type": "display_data"
    }
   ],
   "source": [
    "# plots the newly trsnaformed distribution. \n",
    "sns.histplot(transformed_values, color = 'darkred')\n",
    "plt.title('Transformed country productivity')"
   ]
  },
  {
   "cell_type": "code",
   "execution_count": 11,
   "id": "96e174e9",
   "metadata": {},
   "outputs": [
    {
     "data": {
      "text/html": [
       "<div>\n",
       "<style scoped>\n",
       "    .dataframe tbody tr th:only-of-type {\n",
       "        vertical-align: middle;\n",
       "    }\n",
       "\n",
       "    .dataframe tbody tr th {\n",
       "        vertical-align: top;\n",
       "    }\n",
       "\n",
       "    .dataframe thead th {\n",
       "        text-align: right;\n",
       "    }\n",
       "</style>\n",
       "<table border=\"1\" class=\"dataframe\">\n",
       "  <thead>\n",
       "    <tr style=\"text-align: right;\">\n",
       "      <th></th>\n",
       "      <th>country</th>\n",
       "      <th>orig_productivity</th>\n",
       "      <th>trans_productivity</th>\n",
       "    </tr>\n",
       "  </thead>\n",
       "  <tbody>\n",
       "    <tr>\n",
       "      <th>0</th>\n",
       "      <td>Afghanistan</td>\n",
       "      <td>9043.751667</td>\n",
       "      <td>16.494458</td>\n",
       "    </tr>\n",
       "    <tr>\n",
       "      <th>1</th>\n",
       "      <td>Albania</td>\n",
       "      <td>30685.229167</td>\n",
       "      <td>24.021142</td>\n",
       "    </tr>\n",
       "    <tr>\n",
       "      <th>2</th>\n",
       "      <td>Algeria</td>\n",
       "      <td>43222.630000</td>\n",
       "      <td>26.691481</td>\n",
       "    </tr>\n",
       "    <tr>\n",
       "      <th>3</th>\n",
       "      <td>Angola</td>\n",
       "      <td>19511.684167</td>\n",
       "      <td>20.897325</td>\n",
       "    </tr>\n",
       "  </tbody>\n",
       "</table>\n",
       "</div>"
      ],
      "text/plain": [
       "       country  orig_productivity  trans_productivity\n",
       "0  Afghanistan        9043.751667           16.494458\n",
       "1      Albania       30685.229167           24.021142\n",
       "2      Algeria       43222.630000           26.691481\n",
       "3       Angola       19511.684167           20.897325"
      ]
     },
     "execution_count": 11,
     "metadata": {},
     "output_type": "execute_result"
    }
   ],
   "source": [
    "# creates a data frame.  \n",
    "d = {'country': avg_df.index,\n",
    "    'orig_productivity': avg_df.value,\n",
    "    'trans_productivity': transformed_values}\n",
    "\n",
    "productivity_df = pd.DataFrame(d).reset_index(drop=True)\n",
    "productivity_df.head(4)"
   ]
  },
  {
   "cell_type": "markdown",
   "id": "ae6412ab",
   "metadata": {},
   "source": [
    "## 2) Clean GDP data"
   ]
  },
  {
   "cell_type": "code",
   "execution_count": 12,
   "id": "a6adf439",
   "metadata": {},
   "outputs": [
    {
     "data": {
      "text/html": [
       "<div>\n",
       "<style scoped>\n",
       "    .dataframe tbody tr th:only-of-type {\n",
       "        vertical-align: middle;\n",
       "    }\n",
       "\n",
       "    .dataframe tbody tr th {\n",
       "        vertical-align: top;\n",
       "    }\n",
       "\n",
       "    .dataframe thead th {\n",
       "        text-align: right;\n",
       "    }\n",
       "</style>\n",
       "<table border=\"1\" class=\"dataframe\">\n",
       "  <thead>\n",
       "    <tr style=\"text-align: right;\">\n",
       "      <th>2</th>\n",
       "      <th>Country Name</th>\n",
       "      <th>Country Code</th>\n",
       "      <th>Indicator Name</th>\n",
       "      <th>Indicator Code</th>\n",
       "      <th>1960.0</th>\n",
       "      <th>1961.0</th>\n",
       "      <th>1962.0</th>\n",
       "      <th>1963.0</th>\n",
       "      <th>1964.0</th>\n",
       "      <th>1965.0</th>\n",
       "      <th>...</th>\n",
       "      <th>2011.0</th>\n",
       "      <th>2012.0</th>\n",
       "      <th>2013.0</th>\n",
       "      <th>2014.0</th>\n",
       "      <th>2015.0</th>\n",
       "      <th>2016.0</th>\n",
       "      <th>2017.0</th>\n",
       "      <th>2018.0</th>\n",
       "      <th>2019.0</th>\n",
       "      <th>2020.0</th>\n",
       "    </tr>\n",
       "  </thead>\n",
       "  <tbody>\n",
       "    <tr>\n",
       "      <th>0</th>\n",
       "      <td>Aruba</td>\n",
       "      <td>ABW</td>\n",
       "      <td>GDP per capita (current US$)</td>\n",
       "      <td>NY.GDP.PCAP.CD</td>\n",
       "      <td>NaN</td>\n",
       "      <td>NaN</td>\n",
       "      <td>NaN</td>\n",
       "      <td>NaN</td>\n",
       "      <td>NaN</td>\n",
       "      <td>NaN</td>\n",
       "      <td>...</td>\n",
       "      <td>24985.013919</td>\n",
       "      <td>24712.493263</td>\n",
       "      <td>26441.619936</td>\n",
       "      <td>26893.011506</td>\n",
       "      <td>28396.908423</td>\n",
       "      <td>28452.170615</td>\n",
       "      <td>29350.805019</td>\n",
       "      <td>30253.279358</td>\n",
       "      <td>NaN</td>\n",
       "      <td>NaN</td>\n",
       "    </tr>\n",
       "    <tr>\n",
       "      <th>1</th>\n",
       "      <td>Africa Eastern and Southern</td>\n",
       "      <td>AFE</td>\n",
       "      <td>GDP per capita (current US$)</td>\n",
       "      <td>NY.GDP.PCAP.CD</td>\n",
       "      <td>147.612227</td>\n",
       "      <td>147.014904</td>\n",
       "      <td>156.189192</td>\n",
       "      <td>182.243917</td>\n",
       "      <td>162.347592</td>\n",
       "      <td>180.214908</td>\n",
       "      <td>...</td>\n",
       "      <td>1770.73623</td>\n",
       "      <td>1736.16656</td>\n",
       "      <td>1713.899299</td>\n",
       "      <td>1703.596298</td>\n",
       "      <td>1549.03794</td>\n",
       "      <td>1431.778723</td>\n",
       "      <td>1573.063386</td>\n",
       "      <td>1574.978648</td>\n",
       "      <td>1530.059177</td>\n",
       "      <td>1359.618224</td>\n",
       "    </tr>\n",
       "    <tr>\n",
       "      <th>2</th>\n",
       "      <td>Afghanistan</td>\n",
       "      <td>AFG</td>\n",
       "      <td>GDP per capita (current US$)</td>\n",
       "      <td>NY.GDP.PCAP.CD</td>\n",
       "      <td>59.773234</td>\n",
       "      <td>59.8609</td>\n",
       "      <td>58.458009</td>\n",
       "      <td>78.706429</td>\n",
       "      <td>82.095307</td>\n",
       "      <td>101.108325</td>\n",
       "      <td>...</td>\n",
       "      <td>591.19003</td>\n",
       "      <td>638.845852</td>\n",
       "      <td>624.315455</td>\n",
       "      <td>614.223342</td>\n",
       "      <td>556.007221</td>\n",
       "      <td>512.012778</td>\n",
       "      <td>516.679862</td>\n",
       "      <td>485.668419</td>\n",
       "      <td>494.17935</td>\n",
       "      <td>516.747871</td>\n",
       "    </tr>\n",
       "    <tr>\n",
       "      <th>3</th>\n",
       "      <td>Africa Western and Central</td>\n",
       "      <td>AFW</td>\n",
       "      <td>GDP per capita (current US$)</td>\n",
       "      <td>NY.GDP.PCAP.CD</td>\n",
       "      <td>107.932233</td>\n",
       "      <td>113.081647</td>\n",
       "      <td>118.831107</td>\n",
       "      <td>123.442888</td>\n",
       "      <td>131.854402</td>\n",
       "      <td>138.526332</td>\n",
       "      <td>...</td>\n",
       "      <td>1862.308267</td>\n",
       "      <td>1965.118485</td>\n",
       "      <td>2157.481149</td>\n",
       "      <td>2212.853135</td>\n",
       "      <td>1894.310195</td>\n",
       "      <td>1673.835527</td>\n",
       "      <td>1613.473553</td>\n",
       "      <td>1704.139603</td>\n",
       "      <td>1777.918672</td>\n",
       "      <td>1710.073363</td>\n",
       "    </tr>\n",
       "  </tbody>\n",
       "</table>\n",
       "<p>4 rows × 65 columns</p>\n",
       "</div>"
      ],
      "text/plain": [
       "2                 Country Name Country Code                Indicator Name  \\\n",
       "0                        Aruba          ABW  GDP per capita (current US$)   \n",
       "1  Africa Eastern and Southern          AFE  GDP per capita (current US$)   \n",
       "2                  Afghanistan          AFG  GDP per capita (current US$)   \n",
       "3   Africa Western and Central          AFW  GDP per capita (current US$)   \n",
       "\n",
       "2  Indicator Code      1960.0      1961.0      1962.0      1963.0      1964.0  \\\n",
       "0  NY.GDP.PCAP.CD         NaN         NaN         NaN         NaN         NaN   \n",
       "1  NY.GDP.PCAP.CD  147.612227  147.014904  156.189192  182.243917  162.347592   \n",
       "2  NY.GDP.PCAP.CD   59.773234     59.8609   58.458009   78.706429   82.095307   \n",
       "3  NY.GDP.PCAP.CD  107.932233  113.081647  118.831107  123.442888  131.854402   \n",
       "\n",
       "2      1965.0  ...        2011.0        2012.0        2013.0        2014.0  \\\n",
       "0         NaN  ...  24985.013919  24712.493263  26441.619936  26893.011506   \n",
       "1  180.214908  ...    1770.73623    1736.16656   1713.899299   1703.596298   \n",
       "2  101.108325  ...     591.19003    638.845852    624.315455    614.223342   \n",
       "3  138.526332  ...   1862.308267   1965.118485   2157.481149   2212.853135   \n",
       "\n",
       "2        2015.0        2016.0        2017.0        2018.0       2019.0  \\\n",
       "0  28396.908423  28452.170615  29350.805019  30253.279358          NaN   \n",
       "1    1549.03794   1431.778723   1573.063386   1574.978648  1530.059177   \n",
       "2    556.007221    512.012778    516.679862    485.668419    494.17935   \n",
       "3   1894.310195   1673.835527   1613.473553   1704.139603  1777.918672   \n",
       "\n",
       "2       2020.0  \n",
       "0          NaN  \n",
       "1  1359.618224  \n",
       "2   516.747871  \n",
       "3  1710.073363  \n",
       "\n",
       "[4 rows x 65 columns]"
      ]
     },
     "execution_count": 12,
     "metadata": {},
     "output_type": "execute_result"
    }
   ],
   "source": [
    "# reads in the gdp data. \n",
    "gdp_data = pd.read_excel('C:/Users/HUAWEI/Desktop/Projects/9-to-5/Data/gdp_per_capita.xlsx')\n",
    "headers = gdp_data.iloc[2]\n",
    "gdp_data = pd.DataFrame(gdp_data.values[3:], columns=headers).reset_index(drop=True)\n",
    "gdp_data.head(4)"
   ]
  },
  {
   "cell_type": "code",
   "execution_count": 13,
   "id": "2c3d698d",
   "metadata": {},
   "outputs": [
    {
     "data": {
      "text/html": [
       "<div>\n",
       "<style scoped>\n",
       "    .dataframe tbody tr th:only-of-type {\n",
       "        vertical-align: middle;\n",
       "    }\n",
       "\n",
       "    .dataframe tbody tr th {\n",
       "        vertical-align: top;\n",
       "    }\n",
       "\n",
       "    .dataframe thead th {\n",
       "        text-align: right;\n",
       "    }\n",
       "</style>\n",
       "<table border=\"1\" class=\"dataframe\">\n",
       "  <thead>\n",
       "    <tr style=\"text-align: right;\">\n",
       "      <th></th>\n",
       "      <th>country</th>\n",
       "      <th>avg</th>\n",
       "    </tr>\n",
       "  </thead>\n",
       "  <tbody>\n",
       "    <tr>\n",
       "      <th>0</th>\n",
       "      <td>Aruba</td>\n",
       "      <td>26999.87</td>\n",
       "    </tr>\n",
       "    <tr>\n",
       "      <th>1</th>\n",
       "      <td>Africa Eastern and Southern</td>\n",
       "      <td>1597.94</td>\n",
       "    </tr>\n",
       "    <tr>\n",
       "      <th>2</th>\n",
       "      <td>Afghanistan</td>\n",
       "      <td>553.93</td>\n",
       "    </tr>\n",
       "    <tr>\n",
       "      <th>3</th>\n",
       "      <td>Africa Western and Central</td>\n",
       "      <td>1841.73</td>\n",
       "    </tr>\n",
       "  </tbody>\n",
       "</table>\n",
       "</div>"
      ],
      "text/plain": [
       "                       country       avg\n",
       "0                        Aruba  26999.87\n",
       "1  Africa Eastern and Southern   1597.94\n",
       "2                  Afghanistan    553.93\n",
       "3   Africa Western and Central   1841.73"
      ]
     },
     "execution_count": 13,
     "metadata": {},
     "output_type": "execute_result"
    }
   ],
   "source": [
    "# removes warnings. \n",
    "import warnings\n",
    "warnings.filterwarnings(\"ignore\", category=RuntimeWarning) \n",
    "\n",
    "# return row averages for each country. \n",
    "def row_avg(row):\n",
    "    \n",
    "    total = []\n",
    "    for i in range(len(row)):\n",
    "        if np.isnan(row[i]) == False:\n",
    "            total.append(row[i])\n",
    "            \n",
    "    avg = round(np.mean(total),2)\n",
    "    \n",
    "    return avg\n",
    "\n",
    "def get_avgs(rows):\n",
    "    \n",
    "    avgs = []\n",
    "    for i in range(len(rows)):\n",
    "        avgs.append(row_avg(rows.iloc[i,:]))\n",
    "    \n",
    "    return avgs\n",
    "\n",
    "# creates a data frame.  \n",
    "countries = gdp_data.loc[:,'Country Name']\n",
    "years = gdp_data.loc[:,2010.0:2020.0]\n",
    "\n",
    "d = {'country': countries,\n",
    "    'avg': get_avgs(years)}\n",
    "\n",
    "gdp_df = pd.DataFrame(d).reset_index(drop=True)\n",
    "gdp_df.head(4)"
   ]
  },
  {
   "cell_type": "code",
   "execution_count": 14,
   "id": "bf00a3e8",
   "metadata": {
    "scrolled": true
   },
   "outputs": [
    {
     "data": {
      "text/html": [
       "<div>\n",
       "<style scoped>\n",
       "    .dataframe tbody tr th:only-of-type {\n",
       "        vertical-align: middle;\n",
       "    }\n",
       "\n",
       "    .dataframe tbody tr th {\n",
       "        vertical-align: top;\n",
       "    }\n",
       "\n",
       "    .dataframe thead th {\n",
       "        text-align: right;\n",
       "    }\n",
       "</style>\n",
       "<table border=\"1\" class=\"dataframe\">\n",
       "  <thead>\n",
       "    <tr style=\"text-align: right;\">\n",
       "      <th></th>\n",
       "      <th>country</th>\n",
       "      <th>avg</th>\n",
       "    </tr>\n",
       "  </thead>\n",
       "  <tbody>\n",
       "    <tr>\n",
       "      <th>0</th>\n",
       "      <td>Aruba</td>\n",
       "      <td>26999.87</td>\n",
       "    </tr>\n",
       "    <tr>\n",
       "      <th>2</th>\n",
       "      <td>Afghanistan</td>\n",
       "      <td>553.93</td>\n",
       "    </tr>\n",
       "    <tr>\n",
       "      <th>4</th>\n",
       "      <td>Angola</td>\n",
       "      <td>3964.64</td>\n",
       "    </tr>\n",
       "    <tr>\n",
       "      <th>5</th>\n",
       "      <td>Albania</td>\n",
       "      <td>4573.48</td>\n",
       "    </tr>\n",
       "  </tbody>\n",
       "</table>\n",
       "</div>"
      ],
      "text/plain": [
       "       country       avg\n",
       "0        Aruba  26999.87\n",
       "2  Afghanistan    553.93\n",
       "4       Angola   3964.64\n",
       "5      Albania   4573.48"
      ]
     },
     "execution_count": 14,
     "metadata": {},
     "output_type": "execute_result"
    }
   ],
   "source": [
    "# creates a list of indicators to not include.\n",
    "unwanted_indicators = [\"World\",\n",
    "                       \"Arab World\",\n",
    "                        \"Caribbean small states\",\n",
    "                        \"Central Europe and the Baltics\",\n",
    "                         \"East Asia & Pacific\",\n",
    "                         \"East Asia & Pacific (excluding high income)\",\n",
    "                         \"Euro area\",\n",
    "                         \"Europe & Central Asia\",\n",
    "                         \"Europe & Central Asia (excluding high income)\",\n",
    "                         \"European Union\",\n",
    "                         \"Fragile and conflict affected situations\",\n",
    "                         \"Heavily indebted poor countries (HIPC)\",\n",
    "                         \"Latin America & Caribbean\",\n",
    "                         \"Latin America & Caribbean (excluding high income)\",\n",
    "                         \"Least developed countries: UN classification\",\n",
    "                         \"Middle East & North Africa\",\n",
    "                         \"Middle East & North Africa (excluding high income)\",\n",
    "                         \"North America\",\n",
    "                         \"OECD members\",\n",
    "                         \"Other small states\",\n",
    "                         \"Pacific island small states\",\n",
    "                         \"Small states\",\n",
    "                         \"South Asia\",\n",
    "                         \"Sub-Saharan Africa\",\n",
    "                         \"Sub-Saharan Africa (excluding high income)\",\n",
    "                         \"High income\",\n",
    "                         \"Low & middle income\",\n",
    "                         \"Low income\",\n",
    "                         \"Lower middle income\",\n",
    "                         \"Middle income\",\n",
    "                         \"Upper middle income\",\n",
    "                         \"Not classified\",\n",
    "                         \"Africa Eastern and Southern\",\n",
    "                         \"Africa Western and Central\",\n",
    "                         \"Early-demographic dividend\",\n",
    "                         \"IBRD only\",\n",
    "                         \"IDA & IBRD total\",\n",
    "                         \"IDA total\",\n",
    "                         \"IDA blend\",\n",
    "                         \"IDA only\",\n",
    "                         \"Late-demographic dividend\",\n",
    "                         \"Pre-demographic dividend\",\n",
    "                         \"Post-demographic dividend\",\n",
    "                         \"East Asia & Pacific (IDA & IBRD countries)\",\n",
    "                         \"Europe & Central Asia (IDA & IBRD countries)\",\n",
    "                         \"Latin America & the Caribbean (IDA & IBRD countries)\",\n",
    "                         \"Middle East & North Africa (IDA & IBRD countries)\",\n",
    "                         \"South Asia (IDA & IBRD)\",\n",
    "                         \"Sub-Saharan Africa (IDA & IBRD countries)\"]\n",
    "\n",
    "gdp_df = gdp_df.loc[gdp_df.country.isin(unwanted_indicators)==False,:]\n",
    "gdp_df.head(4)"
   ]
  },
  {
   "cell_type": "code",
   "execution_count": 15,
   "id": "b98ed1b5",
   "metadata": {},
   "outputs": [
    {
     "data": {
      "text/plain": [
       "Text(0.5, 1.0, 'Country GDP')"
      ]
     },
     "execution_count": 15,
     "metadata": {},
     "output_type": "execute_result"
    },
    {
     "data": {
      "image/png": "[encoded data removed]",
      "text/plain": [
       "<Figure size 432x288 with 1 Axes>"
      ]
     },
     "metadata": {
      "needs_background": "light"
     },
     "output_type": "display_data"
    }
   ],
   "source": [
    "# checks the distribution for the gdp data. \n",
    "sns.histplot(gdp_df.avg)\n",
    "plt.title('Country GDP')"
   ]
  },
  {
   "cell_type": "code",
   "execution_count": 16,
   "id": "0cd3f756",
   "metadata": {},
   "outputs": [],
   "source": [
    "# transfrorms the distribution to make it more normal. \n",
    "transformed_gdp = gdp_df['avg']**(1/12)"
   ]
  },
  {
   "cell_type": "code",
   "execution_count": 17,
   "id": "d11680f7",
   "metadata": {},
   "outputs": [
    {
     "data": {
      "text/plain": [
       "Text(0.5, 1.0, 'Transformed country GDP')"
      ]
     },
     "execution_count": 17,
     "metadata": {},
     "output_type": "execute_result"
    },
    {
     "data": {
      "image/png": "[encoded data removed]",
      "text/plain": [
       "<Figure size 432x288 with 1 Axes>"
      ]
     },
     "metadata": {
      "needs_background": "light"
     },
     "output_type": "display_data"
    }
   ],
   "source": [
    "# plots the newly trsnaformed distribution.\n",
    "sns.histplot(transformed_gdp, color = 'darkred')\n",
    "plt.title('Transformed country GDP')"
   ]
  },
  {
   "cell_type": "code",
   "execution_count": 18,
   "id": "222b534c",
   "metadata": {},
   "outputs": [
    {
     "data": {
      "text/html": [
       "<div>\n",
       "<style scoped>\n",
       "    .dataframe tbody tr th:only-of-type {\n",
       "        vertical-align: middle;\n",
       "    }\n",
       "\n",
       "    .dataframe tbody tr th {\n",
       "        vertical-align: top;\n",
       "    }\n",
       "\n",
       "    .dataframe thead th {\n",
       "        text-align: right;\n",
       "    }\n",
       "</style>\n",
       "<table border=\"1\" class=\"dataframe\">\n",
       "  <thead>\n",
       "    <tr style=\"text-align: right;\">\n",
       "      <th></th>\n",
       "      <th>country</th>\n",
       "      <th>orig_gdp</th>\n",
       "      <th>trans_gdp</th>\n",
       "    </tr>\n",
       "  </thead>\n",
       "  <tbody>\n",
       "    <tr>\n",
       "      <th>0</th>\n",
       "      <td>Aruba</td>\n",
       "      <td>26999.87</td>\n",
       "      <td>2.340346</td>\n",
       "    </tr>\n",
       "    <tr>\n",
       "      <th>1</th>\n",
       "      <td>Afghanistan</td>\n",
       "      <td>553.93</td>\n",
       "      <td>1.692861</td>\n",
       "    </tr>\n",
       "    <tr>\n",
       "      <th>2</th>\n",
       "      <td>Angola</td>\n",
       "      <td>3964.64</td>\n",
       "      <td>1.994575</td>\n",
       "    </tr>\n",
       "    <tr>\n",
       "      <th>3</th>\n",
       "      <td>Albania</td>\n",
       "      <td>4573.48</td>\n",
       "      <td>2.018462</td>\n",
       "    </tr>\n",
       "  </tbody>\n",
       "</table>\n",
       "</div>"
      ],
      "text/plain": [
       "       country  orig_gdp  trans_gdp\n",
       "0        Aruba  26999.87   2.340346\n",
       "1  Afghanistan    553.93   1.692861\n",
       "2       Angola   3964.64   1.994575\n",
       "3      Albania   4573.48   2.018462"
      ]
     },
     "execution_count": 18,
     "metadata": {},
     "output_type": "execute_result"
    }
   ],
   "source": [
    "# creates a data frame.  \n",
    "d = {'country': gdp_df.country,\n",
    "    'orig_gdp': gdp_df.avg,\n",
    "    'trans_gdp': transformed_gdp}\n",
    "\n",
    "gdp_df = pd.DataFrame(d).reset_index(drop=True)\n",
    "gdp_df.head(4)"
   ]
  },
  {
   "cell_type": "code",
   "execution_count": 19,
   "id": "d407bdcb",
   "metadata": {},
   "outputs": [],
   "source": [
    "# finds the countries in the gdp data but not in the productivity data. \n",
    "x = gdp_df['country']\n",
    "y = productivity_df['country']\n",
    "\n",
    "matches = [x for x in y]"
   ]
  },
  {
   "cell_type": "code",
   "execution_count": 20,
   "id": "b71d2634",
   "metadata": {},
   "outputs": [],
   "source": [
    "# keeps those which are mutual matches and creates a data frame. \n",
    "gdp_df = gdp_df.loc[gdp_df.country.isin(matches)==True].sort_values('country', axis=0).reset_index(drop=True)\n",
    "productivity_df = productivity_df.loc[productivity_df.country.isin(gdp_df.country)==True].sort_values('country', axis=0).reset_index(drop=True)\n",
    "\n",
    "d = {'country': gdp_df['country'],\n",
    "    'orig_gdp': gdp_df['orig_gdp'],\n",
    "    'trans_gdp': gdp_df['trans_gdp'],\n",
    "    'orig_prod': productivity_df['orig_productivity'],\n",
    "    'trans_prod': productivity_df['trans_productivity']}\n",
    "\n",
    "final_df = pd.DataFrame(d)"
   ]
  },
  {
   "cell_type": "code",
   "execution_count": 22,
   "id": "a10f65a6",
   "metadata": {},
   "outputs": [
    {
     "data": {
      "text/plain": [
       "country       0\n",
       "orig_gdp      2\n",
       "trans_gdp     2\n",
       "orig_prod     0\n",
       "trans_prod    0\n",
       "dtype: int64"
      ]
     },
     "execution_count": 22,
     "metadata": {},
     "output_type": "execute_result"
    }
   ],
   "source": [
    "# checks for null values. \n",
    "final_df.isnull().sum()"
   ]
  },
  {
   "cell_type": "code",
   "execution_count": 23,
   "id": "13bf3f3d",
   "metadata": {},
   "outputs": [
    {
     "data": {
      "text/html": [
       "<div>\n",
       "<style scoped>\n",
       "    .dataframe tbody tr th:only-of-type {\n",
       "        vertical-align: middle;\n",
       "    }\n",
       "\n",
       "    .dataframe tbody tr th {\n",
       "        vertical-align: top;\n",
       "    }\n",
       "\n",
       "    .dataframe thead th {\n",
       "        text-align: right;\n",
       "    }\n",
       "</style>\n",
       "<table border=\"1\" class=\"dataframe\">\n",
       "  <thead>\n",
       "    <tr style=\"text-align: right;\">\n",
       "      <th></th>\n",
       "      <th>country</th>\n",
       "      <th>orig_gdp</th>\n",
       "      <th>trans_gdp</th>\n",
       "      <th>orig_prod</th>\n",
       "      <th>trans_prod</th>\n",
       "    </tr>\n",
       "  </thead>\n",
       "  <tbody>\n",
       "    <tr>\n",
       "      <th>0</th>\n",
       "      <td>Afghanistan</td>\n",
       "      <td>553.93</td>\n",
       "      <td>1.692861</td>\n",
       "      <td>9043.751667</td>\n",
       "      <td>16.494458</td>\n",
       "    </tr>\n",
       "    <tr>\n",
       "      <th>1</th>\n",
       "      <td>Albania</td>\n",
       "      <td>4573.48</td>\n",
       "      <td>2.018462</td>\n",
       "      <td>30685.229167</td>\n",
       "      <td>24.021142</td>\n",
       "    </tr>\n",
       "    <tr>\n",
       "      <th>2</th>\n",
       "      <td>Algeria</td>\n",
       "      <td>4563.08</td>\n",
       "      <td>2.018079</td>\n",
       "      <td>43222.630000</td>\n",
       "      <td>26.691481</td>\n",
       "    </tr>\n",
       "    <tr>\n",
       "      <th>3</th>\n",
       "      <td>Angola</td>\n",
       "      <td>3964.64</td>\n",
       "      <td>1.994575</td>\n",
       "      <td>19511.684167</td>\n",
       "      <td>20.897325</td>\n",
       "    </tr>\n",
       "  </tbody>\n",
       "</table>\n",
       "</div>"
      ],
      "text/plain": [
       "       country  orig_gdp  trans_gdp     orig_prod  trans_prod\n",
       "0  Afghanistan    553.93   1.692861   9043.751667   16.494458\n",
       "1      Albania   4573.48   2.018462  30685.229167   24.021142\n",
       "2      Algeria   4563.08   2.018079  43222.630000   26.691481\n",
       "3       Angola   3964.64   1.994575  19511.684167   20.897325"
      ]
     },
     "execution_count": 23,
     "metadata": {},
     "output_type": "execute_result"
    }
   ],
   "source": [
    "# drops na values. \n",
    "final_df.dropna(inplace=True)\n",
    "final_df.reset_index(drop=True)\n",
    "\n",
    "final_df.head(4)"
   ]
  },
  {
   "cell_type": "code",
   "execution_count": 24,
   "id": "266d18ff",
   "metadata": {},
   "outputs": [],
   "source": [
    "# gets the z score to normalise differences in values. \n",
    "def get_z_score(col):\n",
    "    mean = col.mean()\n",
    "    std = col.std()\n",
    "    \n",
    "    z_scores = []\n",
    "    \n",
    "    for i in range(len(col)):\n",
    "        z_scores.append((col.iloc[i]-mean)/std)\n",
    "        \n",
    "    return z_scores\n",
    "\n",
    "final_df['orig_gdp'] = get_z_score(final_df['orig_gdp'])\n",
    "final_df['orig_prod'] = get_z_score(final_df['orig_prod'])\n",
    "\n",
    "final_df['trans_gdp'] = get_z_score(final_df['trans_gdp'])\n",
    "final_df['trans_prod'] = get_z_score(final_df['trans_prod'])"
   ]
  },
  {
   "cell_type": "markdown",
   "id": "4a165e55",
   "metadata": {},
   "source": [
    "## 3) Check correlation"
   ]
  },
  {
   "cell_type": "code",
   "execution_count": 25,
   "id": "29108ae3",
   "metadata": {},
   "outputs": [
    {
     "name": "stdout",
     "output_type": "stream",
     "text": [
      "Original:      0.89\n",
      "Transformed:   0.96\n"
     ]
    }
   ],
   "source": [
    "# checks the correlation between the variables for the original and transformed values. \n",
    "import statistics\n",
    "\n",
    "x = statistics.correlation(final_df.orig_gdp, final_df.orig_prod)\n",
    "y = statistics.correlation(final_df.trans_gdp, final_df.trans_prod)\n",
    "\n",
    "print('Original:      ' + str(round(x, 2)))\n",
    "print('Transformed:   ' + str(round(y, 2)))"
   ]
  },
  {
   "cell_type": "code",
   "execution_count": 26,
   "id": "da91c90c",
   "metadata": {
    "scrolled": true
   },
   "outputs": [
    {
     "data": {
      "image/png": "[encoded data removed]",
      "text/plain": [
       "<Figure size 1080x288 with 2 Axes>"
      ]
     },
     "metadata": {
      "needs_background": "light"
     },
     "output_type": "display_data"
    }
   ],
   "source": [
    "# plots the correlation. \n",
    "import matplotlib.pyplot as plt\n",
    "from sklearn.linear_model import LinearRegression\n",
    "\n",
    "plots = ['orig', 'trans']\n",
    "\n",
    "fig, axes = plt.subplots(nrows=1, ncols=2, figsize=(15,4))\n",
    "for i in range(len(plots)):\n",
    "    corr = statistics.correlation(eval('final_df.' + plots[i] + '_gdp'), eval('final_df.' + plots[i] + '_prod'))\n",
    "    \n",
    "    x = np.array(eval('final_df.' + plots[i] + '_gdp'))\n",
    "    y = np.array(eval('final_df.' + plots[i] + '_prod'))\n",
    "    axes[i].scatter(x, y)\n",
    "    b, a = np.polyfit(x, y, deg=1)\n",
    "    xseq = np.linspace(0, 10, num=100)\n",
    "    axes[i].axline(xy1=(0, a), slope=b)\n",
    "    axes[i].set_title(plots[i].title() + ':  ' + str(round(corr,2)))\n",
    "    axes[i].set(xlabel=\"GDP per capita\",ylabel=\"Productivity\")\n",
    "plt.show()"
   ]
  },
  {
   "cell_type": "code",
   "execution_count": 27,
   "id": "65ee11e6",
   "metadata": {},
   "outputs": [
    {
     "data": {
      "text/plain": [
       "array(['Afghanistan', 'Albania', 'Algeria', 'Angola', 'Argentina',\n",
       "       'Armenia', 'Australia', 'Austria', 'Azerbaijan', 'Bahrain',\n",
       "       'Bangladesh', 'Barbados', 'Belarus', 'Belgium', 'Belize', 'Benin',\n",
       "       'Bhutan', 'Bolivia', 'Bosnia and Herzegovina', 'Botswana',\n",
       "       'Brazil', 'Brunei Darussalam', 'Bulgaria', 'Burkina Faso',\n",
       "       'Burundi', 'Cambodia', 'Cameroon', 'Canada',\n",
       "       'Central African Republic', 'Chad', 'Chile', 'China', 'Colombia',\n",
       "       'Comoros', 'Costa Rica', 'Croatia', 'Cuba', 'Cyprus', 'Denmark',\n",
       "       'Djibouti', 'Dominican Republic', 'Ecuador', 'El Salvador',\n",
       "       'Equatorial Guinea', 'Eritrea', 'Estonia', 'Eswatini', 'Ethiopia',\n",
       "       'Fiji', 'Finland', 'France', 'Gabon', 'Georgia', 'Germany',\n",
       "       'Ghana', 'Greece', 'Guam', 'Guatemala', 'Guinea', 'Guinea-Bissau',\n",
       "       'Guyana', 'Haiti', 'Honduras', 'Hungary', 'Iceland', 'India',\n",
       "       'Indonesia', 'Iraq', 'Ireland', 'Israel', 'Italy', 'Jamaica',\n",
       "       'Japan', 'Jordan', 'Kazakhstan', 'Kenya', 'Kuwait', 'Latvia',\n",
       "       'Lebanon', 'Lesotho', 'Liberia', 'Libya', 'Lithuania',\n",
       "       'Luxembourg', 'Madagascar', 'Malawi', 'Malaysia', 'Maldives',\n",
       "       'Mali', 'Malta', 'Mauritania', 'Mauritius', 'Mexico', 'Mongolia',\n",
       "       'Montenegro', 'Morocco', 'Mozambique', 'Myanmar', 'Namibia',\n",
       "       'Nepal', 'Netherlands', 'New Caledonia', 'New Zealand',\n",
       "       'Nicaragua', 'Niger', 'Nigeria', 'North Macedonia', 'Norway',\n",
       "       'Oman', 'Pakistan', 'Panama', 'Papua New Guinea', 'Paraguay',\n",
       "       'Peru', 'Philippines', 'Poland', 'Portugal', 'Puerto Rico',\n",
       "       'Qatar', 'Romania', 'Russian Federation', 'Rwanda', 'Samoa',\n",
       "       'Sao Tome and Principe', 'Saudi Arabia', 'Senegal', 'Serbia',\n",
       "       'Sierra Leone', 'Singapore', 'Slovenia', 'Solomon Islands',\n",
       "       'Somalia', 'South Africa', 'South Sudan', 'Spain', 'Sri Lanka',\n",
       "       'Sudan', 'Suriname', 'Sweden', 'Switzerland',\n",
       "       'Syrian Arab Republic', 'Tajikistan', 'Thailand', 'Timor-Leste',\n",
       "       'Togo', 'Tonga', 'Trinidad and Tobago', 'Tunisia', 'Turkmenistan',\n",
       "       'Uganda', 'Ukraine', 'United Arab Emirates', 'United Kingdom',\n",
       "       'United States', 'Uruguay', 'Uzbekistan', 'Vanuatu', 'Zambia',\n",
       "       'Zimbabwe'], dtype=object)"
      ]
     },
     "execution_count": 27,
     "metadata": {},
     "output_type": "execute_result"
    }
   ],
   "source": [
    "# lists the unique countries again. \n",
    "final_df.country.unique()"
   ]
  },
  {
   "cell_type": "code",
   "execution_count": 28,
   "id": "f25f0107",
   "metadata": {},
   "outputs": [],
   "source": [
    "# drops the oil rich gulf states to see if this makes a difference. \n",
    "oil_countries = ['United Arab Emirates', 'Kuwait', 'Oman', 'Qatar', 'Saudi Arabia']\n",
    "oil_rich_dropped_df = final_df.loc[final_df.country.isin(oil_countries)==False]"
   ]
  },
  {
   "cell_type": "code",
   "execution_count": 29,
   "id": "756efca6",
   "metadata": {},
   "outputs": [
    {
     "name": "stdout",
     "output_type": "stream",
     "text": [
      "Original:      0.9\n",
      "Transformed:   0.96\n"
     ]
    }
   ],
   "source": [
    "# marginal improvment. \n",
    "x = statistics.correlation(oil_rich_dropped_df.orig_gdp, oil_rich_dropped_df.orig_prod)\n",
    "y = statistics.correlation(oil_rich_dropped_df.trans_gdp, oil_rich_dropped_df.trans_prod)\n",
    "\n",
    "print('Original:      ' + str(round(x, 2)))\n",
    "print('Transformed:   ' + str(round(y, 2)))"
   ]
  },
  {
   "cell_type": "code",
   "execution_count": 30,
   "id": "cffbd540",
   "metadata": {},
   "outputs": [
    {
     "data": {
      "image/png": "[encoded data removed]",
      "text/plain": [
       "<Figure size 1080x288 with 2 Axes>"
      ]
     },
     "metadata": {
      "needs_background": "light"
     },
     "output_type": "display_data"
    }
   ],
   "source": [
    "# replots the data after dropping the oil rich gulf states. \n",
    "plots = ['orig', 'trans']\n",
    "\n",
    "fig, axes = plt.subplots(nrows=1, ncols=2, figsize=(15,4))\n",
    "for i in range(len(plots)):\n",
    "    corr = statistics.correlation(eval('oil_rich_dropped_df.' + plots[i] + '_gdp'), eval('oil_rich_dropped_df.' + plots[i] + '_prod'))\n",
    "    \n",
    "    x = np.array(eval('oil_rich_dropped_df.' + plots[i] + '_gdp'))\n",
    "    y = np.array(eval('oil_rich_dropped_df.' + plots[i] + '_prod'))\n",
    "    axes[i].scatter(x, y, color = 'darkred')\n",
    "    b, a = np.polyfit(x, y, deg=1)\n",
    "    xseq = np.linspace(0, 10, num=100)\n",
    "    axes[i].axline(xy1=(0, a), slope=b, color = 'darkred')\n",
    "    axes[i].set_title(plots[i].title() + ':  ' + str(round(corr,2)))\n",
    "    axes[i].set(xlabel=\"GDP per capita\",ylabel=\"Productivity\")\n",
    "plt.show()"
   ]
  },
  {
   "cell_type": "markdown",
   "id": "d23a5eba",
   "metadata": {},
   "source": [
    "## 4) Create a regression model"
   ]
  },
  {
   "cell_type": "code",
   "execution_count": 31,
   "id": "08b64d9b",
   "metadata": {},
   "outputs": [
    {
     "data": {
      "text/html": [
       "<div>\n",
       "<style scoped>\n",
       "    .dataframe tbody tr th:only-of-type {\n",
       "        vertical-align: middle;\n",
       "    }\n",
       "\n",
       "    .dataframe tbody tr th {\n",
       "        vertical-align: top;\n",
       "    }\n",
       "\n",
       "    .dataframe thead th {\n",
       "        text-align: right;\n",
       "    }\n",
       "</style>\n",
       "<table border=\"1\" class=\"dataframe\">\n",
       "  <thead>\n",
       "    <tr style=\"text-align: right;\">\n",
       "      <th></th>\n",
       "      <th>country</th>\n",
       "      <th>decade_half</th>\n",
       "      <th>gdp_per_capita</th>\n",
       "      <th>ocean_access</th>\n",
       "      <th>education</th>\n",
       "      <th>technology</th>\n",
       "      <th>institutions</th>\n",
       "    </tr>\n",
       "  </thead>\n",
       "  <tbody>\n",
       "    <tr>\n",
       "      <th>0</th>\n",
       "      <td>Afghanistan</td>\n",
       "      <td>first_half</td>\n",
       "      <td>-1.605624</td>\n",
       "      <td>0</td>\n",
       "      <td>-1.414893</td>\n",
       "      <td>-0.775167</td>\n",
       "      <td>-1.817719</td>\n",
       "    </tr>\n",
       "    <tr>\n",
       "      <th>1</th>\n",
       "      <td>Afghanistan</td>\n",
       "      <td>second_half</td>\n",
       "      <td>-1.714686</td>\n",
       "      <td>0</td>\n",
       "      <td>-1.390071</td>\n",
       "      <td>-0.775167</td>\n",
       "      <td>-1.553535</td>\n",
       "    </tr>\n",
       "    <tr>\n",
       "      <th>2</th>\n",
       "      <td>Albania</td>\n",
       "      <td>first_half</td>\n",
       "      <td>-0.259308</td>\n",
       "      <td>1</td>\n",
       "      <td>0.598339</td>\n",
       "      <td>-0.316236</td>\n",
       "      <td>-0.317425</td>\n",
       "    </tr>\n",
       "    <tr>\n",
       "      <th>3</th>\n",
       "      <td>Albania</td>\n",
       "      <td>second_half</td>\n",
       "      <td>-0.218320</td>\n",
       "      <td>1</td>\n",
       "      <td>0.493485</td>\n",
       "      <td>-0.316236</td>\n",
       "      <td>-0.067274</td>\n",
       "    </tr>\n",
       "  </tbody>\n",
       "</table>\n",
       "</div>"
      ],
      "text/plain": [
       "       country  decade_half  gdp_per_capita  ocean_access  education  \\\n",
       "0  Afghanistan   first_half       -1.605624             0  -1.414893   \n",
       "1  Afghanistan  second_half       -1.714686             0  -1.390071   \n",
       "2      Albania   first_half       -0.259308             1   0.598339   \n",
       "3      Albania  second_half       -0.218320             1   0.493485   \n",
       "\n",
       "   technology  institutions  \n",
       "0   -0.775167     -1.817719  \n",
       "1   -0.775167     -1.553535  \n",
       "2   -0.316236     -0.317425  \n",
       "3   -0.316236     -0.067274  "
      ]
     },
     "execution_count": 31,
     "metadata": {},
     "output_type": "execute_result"
    }
   ],
   "source": [
    "# reads in the control variable data from the author's 'Usual Suspects' project.  \n",
    "control_vars = pd.read_excel('C:/Users/HUAWEI/Desktop/Projects/9-to-5/Data/control_variables.xlsx')\n",
    "control_vars.head(4)"
   ]
  },
  {
   "cell_type": "code",
   "execution_count": 32,
   "id": "61c8d846",
   "metadata": {},
   "outputs": [
    {
     "data": {
      "text/html": [
       "<div>\n",
       "<style scoped>\n",
       "    .dataframe tbody tr th:only-of-type {\n",
       "        vertical-align: middle;\n",
       "    }\n",
       "\n",
       "    .dataframe tbody tr th {\n",
       "        vertical-align: top;\n",
       "    }\n",
       "\n",
       "    .dataframe thead th {\n",
       "        text-align: right;\n",
       "    }\n",
       "</style>\n",
       "<table border=\"1\" class=\"dataframe\">\n",
       "  <thead>\n",
       "    <tr style=\"text-align: right;\">\n",
       "      <th></th>\n",
       "      <th>country</th>\n",
       "      <th>education</th>\n",
       "      <th>technology</th>\n",
       "      <th>institutions</th>\n",
       "    </tr>\n",
       "  </thead>\n",
       "  <tbody>\n",
       "    <tr>\n",
       "      <th>1</th>\n",
       "      <td>Afghanistan</td>\n",
       "      <td>-1.390071</td>\n",
       "      <td>-0.775167</td>\n",
       "      <td>-1.553535</td>\n",
       "    </tr>\n",
       "    <tr>\n",
       "      <th>3</th>\n",
       "      <td>Albania</td>\n",
       "      <td>0.493485</td>\n",
       "      <td>-0.316236</td>\n",
       "      <td>-0.067274</td>\n",
       "    </tr>\n",
       "    <tr>\n",
       "      <th>5</th>\n",
       "      <td>Algeria</td>\n",
       "      <td>0.157249</td>\n",
       "      <td>-0.420477</td>\n",
       "      <td>-0.409590</td>\n",
       "    </tr>\n",
       "    <tr>\n",
       "      <th>7</th>\n",
       "      <td>American Samoa</td>\n",
       "      <td>-0.032993</td>\n",
       "      <td>-0.316236</td>\n",
       "      <td>0.584983</td>\n",
       "    </tr>\n",
       "  </tbody>\n",
       "</table>\n",
       "</div>"
      ],
      "text/plain": [
       "          country  education  technology  institutions\n",
       "1     Afghanistan  -1.390071   -0.775167     -1.553535\n",
       "3         Albania   0.493485   -0.316236     -0.067274\n",
       "5         Algeria   0.157249   -0.420477     -0.409590\n",
       "7  American Samoa  -0.032993   -0.316236      0.584983"
      ]
     },
     "execution_count": 32,
     "metadata": {},
     "output_type": "execute_result"
    }
   ],
   "source": [
    "# limits the data to the average observed values between 2015-2020. \n",
    "control_vars = control_vars.loc[control_vars.decade_half=='second_half']\n",
    "control_vars.drop(['decade_half', 'gdp_per_capita', 'ocean_access'], axis=1, inplace=True)\n",
    "control_vars.head(4)"
   ]
  },
  {
   "cell_type": "code",
   "execution_count": 33,
   "id": "7687d419",
   "metadata": {},
   "outputs": [
    {
     "data": {
      "text/plain": [
       "country         0\n",
       "education       0\n",
       "technology      0\n",
       "institutions    0\n",
       "dtype: int64"
      ]
     },
     "execution_count": 33,
     "metadata": {},
     "output_type": "execute_result"
    }
   ],
   "source": [
    "# checks for null values. \n",
    "control_vars.isnull().sum()"
   ]
  },
  {
   "cell_type": "code",
   "execution_count": 34,
   "id": "41098023",
   "metadata": {},
   "outputs": [
    {
     "data": {
      "text/html": [
       "<div>\n",
       "<style scoped>\n",
       "    .dataframe tbody tr th:only-of-type {\n",
       "        vertical-align: middle;\n",
       "    }\n",
       "\n",
       "    .dataframe tbody tr th {\n",
       "        vertical-align: top;\n",
       "    }\n",
       "\n",
       "    .dataframe thead th {\n",
       "        text-align: right;\n",
       "    }\n",
       "</style>\n",
       "<table border=\"1\" class=\"dataframe\">\n",
       "  <thead>\n",
       "    <tr style=\"text-align: right;\">\n",
       "      <th></th>\n",
       "      <th>country</th>\n",
       "      <th>education</th>\n",
       "      <th>technology</th>\n",
       "      <th>institutions</th>\n",
       "    </tr>\n",
       "  </thead>\n",
       "  <tbody>\n",
       "    <tr>\n",
       "      <th>0</th>\n",
       "      <td>Afghanistan</td>\n",
       "      <td>-1.390071</td>\n",
       "      <td>-0.775167</td>\n",
       "      <td>-1.553535</td>\n",
       "    </tr>\n",
       "    <tr>\n",
       "      <th>1</th>\n",
       "      <td>Albania</td>\n",
       "      <td>0.493485</td>\n",
       "      <td>-0.316236</td>\n",
       "      <td>-0.067274</td>\n",
       "    </tr>\n",
       "    <tr>\n",
       "      <th>2</th>\n",
       "      <td>Algeria</td>\n",
       "      <td>0.157249</td>\n",
       "      <td>-0.420477</td>\n",
       "      <td>-0.409590</td>\n",
       "    </tr>\n",
       "    <tr>\n",
       "      <th>3</th>\n",
       "      <td>Angola</td>\n",
       "      <td>-1.478044</td>\n",
       "      <td>-1.765508</td>\n",
       "      <td>-1.190282</td>\n",
       "    </tr>\n",
       "  </tbody>\n",
       "</table>\n",
       "</div>"
      ],
      "text/plain": [
       "       country  education  technology  institutions\n",
       "0  Afghanistan  -1.390071   -0.775167     -1.553535\n",
       "1      Albania   0.493485   -0.316236     -0.067274\n",
       "2      Algeria   0.157249   -0.420477     -0.409590\n",
       "3       Angola  -1.478044   -1.765508     -1.190282"
      ]
     },
     "execution_count": 34,
     "metadata": {},
     "output_type": "execute_result"
    }
   ],
   "source": [
    "# finds the matches between the country names. \n",
    "a = control_vars.country\n",
    "b = final_df.country\n",
    "\n",
    "matches = [a for a in b]\n",
    "\n",
    "matches_df = control_vars.loc[control_vars.country.isin(matches)].sort_values('country').reset_index(drop=True)\n",
    "matches_df.head(4)"
   ]
  },
  {
   "cell_type": "code",
   "execution_count": 35,
   "id": "161d8b89",
   "metadata": {},
   "outputs": [
    {
     "data": {
      "text/plain": [
       "45           Eritrea\n",
       "103    New Caledonia\n",
       "Name: country, dtype: object"
      ]
     },
     "execution_count": 35,
     "metadata": {},
     "output_type": "execute_result"
    }
   ],
   "source": [
    "# identifies the missing country names. \n",
    "missing_countries = final_df.loc[final_df.country.isin(matches_df.country)==False].country\n",
    "missing_countries"
   ]
  },
  {
   "cell_type": "code",
   "execution_count": 36,
   "id": "3f591873",
   "metadata": {},
   "outputs": [],
   "source": [
    "# filters out the missing country names. \n",
    "missing_countries = ['Eritrea', 'New Caledonia']\n",
    "final_df = final_df.loc[final_df.country.isin(missing_countries)==False].sort_values('country').reset_index(drop=True)"
   ]
  },
  {
   "cell_type": "code",
   "execution_count": 37,
   "id": "6d36d7b9",
   "metadata": {},
   "outputs": [
    {
     "data": {
      "text/html": [
       "<div>\n",
       "<style scoped>\n",
       "    .dataframe tbody tr th:only-of-type {\n",
       "        vertical-align: middle;\n",
       "    }\n",
       "\n",
       "    .dataframe tbody tr th {\n",
       "        vertical-align: top;\n",
       "    }\n",
       "\n",
       "    .dataframe thead th {\n",
       "        text-align: right;\n",
       "    }\n",
       "</style>\n",
       "<table border=\"1\" class=\"dataframe\">\n",
       "  <thead>\n",
       "    <tr style=\"text-align: right;\">\n",
       "      <th></th>\n",
       "      <th>country</th>\n",
       "      <th>orig_gdp</th>\n",
       "      <th>trans_gdp</th>\n",
       "      <th>orig_prod</th>\n",
       "      <th>trans_prod</th>\n",
       "      <th>education</th>\n",
       "      <th>technology</th>\n",
       "      <th>institutions</th>\n",
       "    </tr>\n",
       "  </thead>\n",
       "  <tbody>\n",
       "    <tr>\n",
       "      <th>0</th>\n",
       "      <td>Afghanistan</td>\n",
       "      <td>-0.700037</td>\n",
       "      <td>-1.512303</td>\n",
       "      <td>-0.928955</td>\n",
       "      <td>-1.070980</td>\n",
       "      <td>-1.390071</td>\n",
       "      <td>-0.775167</td>\n",
       "      <td>-1.553535</td>\n",
       "    </tr>\n",
       "    <tr>\n",
       "      <th>1</th>\n",
       "      <td>Albania</td>\n",
       "      <td>-0.499868</td>\n",
       "      <td>-0.219857</td>\n",
       "      <td>-0.380347</td>\n",
       "      <td>-0.092322</td>\n",
       "      <td>0.493485</td>\n",
       "      <td>-0.316236</td>\n",
       "      <td>-0.067274</td>\n",
       "    </tr>\n",
       "    <tr>\n",
       "      <th>2</th>\n",
       "      <td>Algeria</td>\n",
       "      <td>-0.500386</td>\n",
       "      <td>-0.221377</td>\n",
       "      <td>-0.062525</td>\n",
       "      <td>0.254889</td>\n",
       "      <td>0.157249</td>\n",
       "      <td>-0.420477</td>\n",
       "      <td>-0.409590</td>\n",
       "    </tr>\n",
       "    <tr>\n",
       "      <th>3</th>\n",
       "      <td>Angola</td>\n",
       "      <td>-0.530188</td>\n",
       "      <td>-0.314676</td>\n",
       "      <td>-0.663595</td>\n",
       "      <td>-0.498497</td>\n",
       "      <td>-1.478044</td>\n",
       "      <td>-1.765508</td>\n",
       "      <td>-1.190282</td>\n",
       "    </tr>\n",
       "  </tbody>\n",
       "</table>\n",
       "</div>"
      ],
      "text/plain": [
       "       country  orig_gdp  trans_gdp  orig_prod  trans_prod  education  \\\n",
       "0  Afghanistan -0.700037  -1.512303  -0.928955   -1.070980  -1.390071   \n",
       "1      Albania -0.499868  -0.219857  -0.380347   -0.092322   0.493485   \n",
       "2      Algeria -0.500386  -0.221377  -0.062525    0.254889   0.157249   \n",
       "3       Angola -0.530188  -0.314676  -0.663595   -0.498497  -1.478044   \n",
       "\n",
       "   technology  institutions  \n",
       "0   -0.775167     -1.553535  \n",
       "1   -0.316236     -0.067274  \n",
       "2   -0.420477     -0.409590  \n",
       "3   -1.765508     -1.190282  "
      ]
     },
     "execution_count": 37,
     "metadata": {},
     "output_type": "execute_result"
    }
   ],
   "source": [
    "# creates a final data frame ready for regression. \n",
    "regression_df = pd.concat([final_df, matches_df.iloc[:,1:len(matches_df.columns)]], axis=1)\n",
    "regression_df.head(4)"
   ]
  },
  {
   "cell_type": "code",
   "execution_count": 38,
   "id": "39caa1f1",
   "metadata": {},
   "outputs": [
    {
     "data": {
      "text/html": [
       "<style>#sk-container-id-1 {color: black;background-color: white;}#sk-container-id-1 pre{padding: 0;}#sk-container-id-1 div.sk-toggleable {background-color: white;}#sk-container-id-1 label.sk-toggleable__label {cursor: pointer;display: block;width: 100%;margin-bottom: 0;padding: 0.3em;box-sizing: border-box;text-align: center;}#sk-container-id-1 label.sk-toggleable__label-arrow:before {content: \"▸\";float: left;margin-right: 0.25em;color: #696969;}#sk-container-id-1 label.sk-toggleable__label-arrow:hover:before {color: black;}#sk-container-id-1 div.sk-estimator:hover label.sk-toggleable__label-arrow:before {color: black;}#sk-container-id-1 div.sk-toggleable__content {max-height: 0;max-width: 0;overflow: hidden;text-align: left;background-color: #f0f8ff;}#sk-container-id-1 div.sk-toggleable__content pre {margin: 0.2em;color: black;border-radius: 0.25em;background-color: #f0f8ff;}#sk-container-id-1 input.sk-toggleable__control:checked~div.sk-toggleable__content {max-height: 200px;max-width: 100%;overflow: auto;}#sk-container-id-1 input.sk-toggleable__control:checked~label.sk-toggleable__label-arrow:before {content: \"▾\";}#sk-container-id-1 div.sk-estimator input.sk-toggleable__control:checked~label.sk-toggleable__label {background-color: #d4ebff;}#sk-container-id-1 div.sk-label input.sk-toggleable__control:checked~label.sk-toggleable__label {background-color: #d4ebff;}#sk-container-id-1 input.sk-hidden--visually {border: 0;clip: rect(1px 1px 1px 1px);clip: rect(1px, 1px, 1px, 1px);height: 1px;margin: -1px;overflow: hidden;padding: 0;position: absolute;width: 1px;}#sk-container-id-1 div.sk-estimator {font-family: monospace;background-color: #f0f8ff;border: 1px dotted black;border-radius: 0.25em;box-sizing: border-box;margin-bottom: 0.5em;}#sk-container-id-1 div.sk-estimator:hover {background-color: #d4ebff;}#sk-container-id-1 div.sk-parallel-item::after {content: \"\";width: 100%;border-bottom: 1px solid gray;flex-grow: 1;}#sk-container-id-1 div.sk-label:hover label.sk-toggleable__label {background-color: #d4ebff;}#sk-container-id-1 div.sk-serial::before {content: \"\";position: absolute;border-left: 1px solid gray;box-sizing: border-box;top: 0;bottom: 0;left: 50%;z-index: 0;}#sk-container-id-1 div.sk-serial {display: flex;flex-direction: column;align-items: center;background-color: white;padding-right: 0.2em;padding-left: 0.2em;position: relative;}#sk-container-id-1 div.sk-item {position: relative;z-index: 1;}#sk-container-id-1 div.sk-parallel {display: flex;align-items: stretch;justify-content: center;background-color: white;position: relative;}#sk-container-id-1 div.sk-item::before, #sk-container-id-1 div.sk-parallel-item::before {content: \"\";position: absolute;border-left: 1px solid gray;box-sizing: border-box;top: 0;bottom: 0;left: 50%;z-index: -1;}#sk-container-id-1 div.sk-parallel-item {display: flex;flex-direction: column;z-index: 1;position: relative;background-color: white;}#sk-container-id-1 div.sk-parallel-item:first-child::after {align-self: flex-end;width: 50%;}#sk-container-id-1 div.sk-parallel-item:last-child::after {align-self: flex-start;width: 50%;}#sk-container-id-1 div.sk-parallel-item:only-child::after {width: 0;}#sk-container-id-1 div.sk-dashed-wrapped {border: 1px dashed gray;margin: 0 0.4em 0.5em 0.4em;box-sizing: border-box;padding-bottom: 0.4em;background-color: white;}#sk-container-id-1 div.sk-label label {font-family: monospace;font-weight: bold;display: inline-block;line-height: 1.2em;}#sk-container-id-1 div.sk-label-container {text-align: center;}#sk-container-id-1 div.sk-container {/* jupyter's `normalize.less` sets `[hidden] { display: none; }` but bootstrap.min.css set `[hidden] { display: none !important; }` so we also need the `!important` here to be able to override the default hidden behavior on the sphinx rendered scikit-learn.org. See: https://github.com/scikit-learn/scikit-learn/issues/21755 */display: inline-block !important;position: relative;}#sk-container-id-1 div.sk-text-repr-fallback {display: none;}</style><div id=\"sk-container-id-1\" class=\"sk-top-container\"><div class=\"sk-text-repr-fallback\"><pre>LinearRegression()</pre><b>In a Jupyter environment, please rerun this cell to show the HTML representation or trust the notebook. <br />On GitHub, the HTML representation is unable to render, please try loading this page with nbviewer.org.</b></div><div class=\"sk-container\" hidden><div class=\"sk-item\"><div class=\"sk-estimator sk-toggleable\"><input class=\"sk-toggleable__control sk-hidden--visually\" id=\"sk-estimator-id-1\" type=\"checkbox\" checked><label for=\"sk-estimator-id-1\" class=\"sk-toggleable__label sk-toggleable__label-arrow\">LinearRegression</label><div class=\"sk-toggleable__content\"><pre>LinearRegression()</pre></div></div></div></div></div>"
      ],
      "text/plain": [
       "LinearRegression()"
      ]
     },
     "execution_count": 38,
     "metadata": {},
     "output_type": "execute_result"
    }
   ],
   "source": [
    "# fits the regression model. \n",
    "from sklearn import linear_model\n",
    "\n",
    "controls = ['trans_prod', 'education', 'technology', 'institutions']\n",
    "\n",
    "x = regression_df.loc[:,controls]\n",
    "y = regression_df['trans_gdp']\n",
    "\n",
    "model = linear_model.LinearRegression()\n",
    "model.fit(x, y)"
   ]
  },
  {
   "cell_type": "code",
   "execution_count": 39,
   "id": "f63d18e2",
   "metadata": {},
   "outputs": [],
   "source": [
    "# creates three summary data points for the regression model.  \n",
    "import statsmodels.api as sm\n",
    "\n",
    "variables = ['Productivity', 'Education', 'Technology', 'Institutions']\n",
    "\n",
    "ols = sm.OLS(y,x)\n",
    "fit = ols.fit()\n",
    "p_values = fit.summary2().tables[1]['P>|t|']\n",
    "\n",
    "Coefficient = []\n",
    "P_value = []\n",
    "Significance = []\n",
    "\n",
    "for i in range(len(variables)):\n",
    "    Coefficient.append(round(model.coef_[i], 2))\n",
    "    P_value.append(round(p_values[i], 20))\n",
    "    \n",
    "    if p_values[i] < 0.001:\n",
    "        Significance.append('***')\n",
    "    elif p_values[i] < 0.01 and p_values[i] > 0.001:\n",
    "        Significance.append('**')\n",
    "    elif p_values[i] < 0.05 and p_values[i] > 0.01:\n",
    "        Significance.append('*')\n",
    "    else:\n",
    "        Significance.append('')"
   ]
  },
  {
   "cell_type": "code",
   "execution_count": 40,
   "id": "a5da4a80",
   "metadata": {},
   "outputs": [
    {
     "data": {
      "text/html": [
       "<div>\n",
       "<style scoped>\n",
       "    .dataframe tbody tr th:only-of-type {\n",
       "        vertical-align: middle;\n",
       "    }\n",
       "\n",
       "    .dataframe tbody tr th {\n",
       "        vertical-align: top;\n",
       "    }\n",
       "\n",
       "    .dataframe thead th {\n",
       "        text-align: right;\n",
       "    }\n",
       "</style>\n",
       "<table border=\"1\" class=\"dataframe\">\n",
       "  <thead>\n",
       "    <tr style=\"text-align: right;\">\n",
       "      <th></th>\n",
       "      <th>Variables</th>\n",
       "      <th>Coefficient</th>\n",
       "      <th>P-value</th>\n",
       "      <th>Significance</th>\n",
       "    </tr>\n",
       "  </thead>\n",
       "  <tbody>\n",
       "    <tr>\n",
       "      <th>0</th>\n",
       "      <td>Productivity</td>\n",
       "      <td>0.74</td>\n",
       "      <td>0.000000e+00</td>\n",
       "      <td>***</td>\n",
       "    </tr>\n",
       "    <tr>\n",
       "      <th>1</th>\n",
       "      <td>Education</td>\n",
       "      <td>0.08</td>\n",
       "      <td>3.307065e-02</td>\n",
       "      <td>*</td>\n",
       "    </tr>\n",
       "    <tr>\n",
       "      <th>2</th>\n",
       "      <td>Technology</td>\n",
       "      <td>0.04</td>\n",
       "      <td>3.774801e-01</td>\n",
       "      <td></td>\n",
       "    </tr>\n",
       "    <tr>\n",
       "      <th>3</th>\n",
       "      <td>Institutions</td>\n",
       "      <td>0.19</td>\n",
       "      <td>4.953965e-10</td>\n",
       "      <td>***</td>\n",
       "    </tr>\n",
       "  </tbody>\n",
       "</table>\n",
       "</div>"
      ],
      "text/plain": [
       "      Variables  Coefficient       P-value Significance\n",
       "0  Productivity         0.74  0.000000e+00          ***\n",
       "1     Education         0.08  3.307065e-02            *\n",
       "2    Technology         0.04  3.774801e-01             \n",
       "3  Institutions         0.19  4.953965e-10          ***"
      ]
     },
     "execution_count": 40,
     "metadata": {},
     "output_type": "execute_result"
    }
   ],
   "source": [
    "# creates a data frame to quickly view the regression model results. \n",
    "d = {'Variables': variables,\n",
    "    'Coefficient': Coefficient,\n",
    "    'P-value': P_value,\n",
    "    'Significance': Significance}\n",
    "\n",
    "results_df = pd.DataFrame(d)\n",
    "results_df"
   ]
  }
 ],
 "metadata": {
  "kernelspec": {
   "display_name": "Python 3 (ipykernel)",
   "language": "python",
   "name": "python3"
  },
  "language_info": {
   "codemirror_mode": {
    "name": "ipython",
    "version": 3
   },
   "file_extension": ".py",
   "mimetype": "text/x-python",
   "name": "python",
   "nbconvert_exporter": "python",
   "pygments_lexer": "ipython3",
   "version": "3.10.5"
  }
 },
 "nbformat": 4,
 "nbformat_minor": 5
}
