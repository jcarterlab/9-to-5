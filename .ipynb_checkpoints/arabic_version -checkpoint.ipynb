{
 "cells": [
  {
   "cell_type": "code",
   "execution_count": 2,
   "id": "f60a95c4",
   "metadata": {
    "scrolled": true
   },
   "outputs": [
    {
     "ename": "com_error",
     "evalue": "(-2147352567, 'Exception occurred.', (0, 'Microsoft Word', \"Sorry, we couldn't find your file. Was it moved, renamed, or deleted?\\r (C:\\\\...\\\\//Users/HUAWEI/Desktop/TIAFI/t...)\", 'wdmain11.chm', 24654, -2146823114), None)",
     "output_type": "error",
     "traceback": [
      "\u001b[1;31m---------------------------------------------------------------------------\u001b[0m",
      "\u001b[1;31mcom_error\u001b[0m                                 Traceback (most recent call last)",
      "Input \u001b[1;32mIn [2]\u001b[0m, in \u001b[0;36m<cell line: 8>\u001b[1;34m()\u001b[0m\n\u001b[0;32m      6\u001b[0m word \u001b[38;5;241m=\u001b[39m win32\u001b[38;5;241m.\u001b[39mDispatch(\u001b[38;5;124m\"\u001b[39m\u001b[38;5;124mWord.Application\u001b[39m\u001b[38;5;124m\"\u001b[39m)\n\u001b[0;32m      7\u001b[0m word\u001b[38;5;241m.\u001b[39mVisible \u001b[38;5;241m=\u001b[39m \u001b[38;5;241m0\u001b[39m\n\u001b[1;32m----> 8\u001b[0m \u001b[43mword\u001b[49m\u001b[38;5;241;43m.\u001b[39;49m\u001b[43mDocuments\u001b[49m\u001b[38;5;241;43m.\u001b[39;49m\u001b[43mOpen\u001b[49m\u001b[43m(\u001b[49m\u001b[38;5;124;43m\"\u001b[39;49m\u001b[38;5;124;43mC:/Users/HUAWEI/Desktop/TIAFI/test.docx\u001b[39;49m\u001b[38;5;124;43m\"\u001b[39;49m\u001b[43m)\u001b[49m\n\u001b[0;32m      9\u001b[0m doc \u001b[38;5;241m=\u001b[39m word\u001b[38;5;241m.\u001b[39mActiveDocument\n",
      "File \u001b[1;32m<COMObject <unknown>>:5\u001b[0m, in \u001b[0;36mOpen\u001b[1;34m(self, FileName, ConfirmConversions, ReadOnly, AddToRecentFiles, PasswordDocument, PasswordTemplate, Revert, WritePasswordDocument, WritePasswordTemplate, Format, Encoding, Visible, OpenAndRepair, DocumentDirection, NoEncodingDialog, XMLTransform)\u001b[0m\n",
      "\u001b[1;31mcom_error\u001b[0m: (-2147352567, 'Exception occurred.', (0, 'Microsoft Word', \"Sorry, we couldn't find your file. Was it moved, renamed, or deleted?\\r (C:\\\\...\\\\//Users/HUAWEI/Desktop/TIAFI/t...)\", 'wdmain11.chm', 24654, -2146823114), None)"
     ]
    }
   ],
   "source": [
    "# imports libraries. \n",
    "import win32com.client as win32\n",
    "import pandas as pd\n",
    "\n",
    "# reads in the word document. \n",
    "word = win32.Dispatch(\"Word.Application\")\n",
    "word.Visible = 0\n",
    "word.Documents.Open(\"C:/Users/HUAWEI/Desktop/TIAFI/test.docx\")\n",
    "doc = word.ActiveDocument"
   ]
  },
  {
   "cell_type": "code",
   "execution_count": null,
   "id": "2415e242",
   "metadata": {},
   "outputs": [],
   "source": [
    "# creates a tables oject containing each of \n",
    "# the document's tables. \n",
    "tables = []\n",
    "for i in range(1, doc.Tables.Count):\n",
    "    tables.append(doc.Tables(i))"
   ]
  },
  {
   "cell_type": "code",
   "execution_count": null,
   "id": "d62fb528",
   "metadata": {},
   "outputs": [],
   "source": [
    "# creates a list of six instances of the patients name (for each month). \n",
    "def get_name():\n",
    "    name = []\n",
    "    contents = tables[0].Cell(Row = 1, Column = 2).Range.Text\n",
    "    for i in range(1,7):\n",
    "        name.append(contents.split(\"\\r\")[0])\n",
    "    return name"
   ]
  },
  {
   "cell_type": "code",
   "execution_count": null,
   "id": "176e93c1",
   "metadata": {},
   "outputs": [],
   "source": [
    "# extracts the numbers from a table cell and \n",
    "# drops unnecessary punctuation/syntax. \n",
    "def extract_score(score):\n",
    "    try:\n",
    "        return float(score.split(\"\\r\")[0])\n",
    "    except:\n",
    "        return 0\n",
    "\n",
    "# gets the score for a specific cell. \n",
    "def get_score(table, column):\n",
    "    score = tables[table].Cell(Row = len(tables[table].rows), Column = column).Range.Text\n",
    "    return extract_score(score)\n",
    "\n",
    "# gets the score for a specific table. \n",
    "def get_table_scores(table):\n",
    "    scores = []\n",
    "    for i in range(2, 8):\n",
    "        scores.append(get_score(table = table, column = i))\n",
    "    return scores\n",
    "\n",
    "# gets all the table scores. \n",
    "def get_all_table_scores():\n",
    "    scores = []\n",
    "    \n",
    "    for i in range(1, len(tables)):\n",
    "        scores.append(get_table_scores(table=i))\n",
    "    return scores"
   ]
  },
  {
   "cell_type": "code",
   "execution_count": null,
   "id": "9c85c2a9",
   "metadata": {},
   "outputs": [],
   "source": [
    "tables[1].Cell(Row = len(tables[1].rows), Column = 1).Range.Text"
   ]
  },
  {
   "cell_type": "code",
   "execution_count": null,
   "id": "3da31e07",
   "metadata": {},
   "outputs": [],
   "source": [
    "# creates a list of scores for each question. \n",
    "scores = get_all_table_scores()\n",
    "scores"
   ]
  },
  {
   "cell_type": "code",
   "execution_count": null,
   "id": "2766b2f9",
   "metadata": {},
   "outputs": [],
   "source": []
  }
 ],
 "metadata": {
  "kernelspec": {
   "display_name": "Python 3 (ipykernel)",
   "language": "python",
   "name": "python3"
  },
  "language_info": {
   "codemirror_mode": {
    "name": "ipython",
    "version": 3
   },
   "file_extension": ".py",
   "mimetype": "text/x-python",
   "name": "python",
   "nbconvert_exporter": "python",
   "pygments_lexer": "ipython3",
   "version": "3.10.5"
  }
 },
 "nbformat": 4,
 "nbformat_minor": 5
}
